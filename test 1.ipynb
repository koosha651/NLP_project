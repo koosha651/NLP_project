{
 "cells": [
  {
   "cell_type": "code",
   "execution_count": 1,
   "id": "559b6372",
   "metadata": {},
   "outputs": [],
   "source": [
    "import pandas as pd\n",
    "import numpy as np"
   ]
  },
  {
   "cell_type": "code",
   "execution_count": 2,
   "id": "ae1fd05c",
   "metadata": {},
   "outputs": [
    {
     "name": "stdout",
     "output_type": "stream",
     "text": [
      "   Courses    Fee Duration  Discount\n",
      "0    Spark  22000   30days      1000\n",
      "1  PySpark  25000   50days      2300\n",
      "2   Hadoop  23000   30days      1000\n",
      "3   Python  24000     None      1200\n",
      "4   Pandas  26000      NaN      2500\n"
     ]
    }
   ],
   "source": [
    "\n",
    "technologies= {\n",
    "    'Courses':[\"Spark\",\"PySpark\",\"Hadoop\",\"Python\",\"Pandas\"],\n",
    "    'Fee' :[22000,25000,23000,24000,26000],\n",
    "    'Duration':['30days','50days','30days', None,np.nan],\n",
    "    'Discount':[1000,2300,1000,1200,2500]\n",
    "          }\n",
    "df = pd.DataFrame(technologies)\n",
    "print(df)\n"
   ]
  },
  {
   "cell_type": "code",
   "execution_count": 3,
   "id": "ade83359",
   "metadata": {},
   "outputs": [
    {
     "data": {
      "text/plain": [
       "{'Spark': 'S', 'PySpark': 'P', 'Hadoop': 'H', 'Python': 'P', 'Pandas': 'P'}"
      ]
     },
     "execution_count": 3,
     "metadata": {},
     "output_type": "execute_result"
    }
   ],
   "source": [
    "\n",
    "# Difine Dict with the key-value pair to remap.\n",
    "dict = {\"Spark\" : 'S', \"PySpark\" : 'P', \"Hadoop\": 'H', \"Python\" : 'P', \"Pandas\": 'P'}\n",
    "dict"
   ]
  },
  {
   "cell_type": "code",
   "execution_count": 4,
   "id": "f59efb44",
   "metadata": {},
   "outputs": [
    {
     "name": "stdout",
     "output_type": "stream",
     "text": [
      "  Courses    Fee Duration  Discount\n",
      "0       S  22000   30days      1000\n",
      "1       P  25000   50days      2300\n",
      "2       H  23000   30days      1000\n",
      "3       P  24000     None      1200\n",
      "4       P  26000      NaN      2500\n"
     ]
    }
   ],
   "source": [
    "\n",
    "# Difine Dict with the key-value pair to remap.\n",
    "\n",
    "df2=df.replace({\"Courses\": dict})\n",
    "print(df2)\n"
   ]
  },
  {
   "cell_type": "code",
   "execution_count": 5,
   "id": "ad4a0817",
   "metadata": {},
   "outputs": [
    {
     "name": "stdout",
     "output_type": "stream",
     "text": [
      "  Courses    Fee Duration  Discount\n",
      "0       S  22000   30days      1000\n",
      "1       P  25000   50days      2300\n",
      "2       H  23000   30days      1000\n",
      "3       P  24000     None      1200\n",
      "4       P  26000      NaN      2500\n"
     ]
    }
   ],
   "source": [
    "\n",
    "df2=df.replace({\"Courses\": dict})\n",
    "print(df2)\n"
   ]
  },
  {
   "cell_type": "code",
   "execution_count": 6,
   "id": "e972e93b",
   "metadata": {},
   "outputs": [
    {
     "name": "stdout",
     "output_type": "stream",
     "text": [
      "   Courses    Fee Duration  Discount\n",
      "0       --  22000       --      1000\n",
      "1  PySpark  25000   50days      2300\n",
      "2   Hadoop  23000       --      1000\n",
      "3   Python  24000     None      1200\n",
      "4   Pandas  26000      NaN      2500\n"
     ]
    }
   ],
   "source": [
    "\n",
    "# Remap Multiple Columns with Same Value\n",
    "\n",
    "\n",
    "df = pd.DataFrame(technologies)\n",
    "remap_values = {\"Courses\" : 'Spark', \"Duration\" : '30days'}\n",
    "df.replace(remap_values,value='--',inplace=True)\n",
    "print(df)\n"
   ]
  },
  {
   "cell_type": "markdown",
   "id": "d491338b",
   "metadata": {},
   "source": [
    "## Exhaustive Mapping"
   ]
  },
  {
   "cell_type": "markdown",
   "id": "e363e6a8",
   "metadata": {},
   "source": [
    "# \n",
    "\n",
    "dict = {\"Spark\" : 'S', \"PySpark\" : 'P', \"Hadoop\": 'H', \"Python\" : 'P', \"Pandas\": 'P'}"
   ]
  },
  {
   "cell_type": "code",
   "execution_count": 7,
   "id": "31f0bca8",
   "metadata": {},
   "outputs": [
    {
     "name": "stdout",
     "output_type": "stream",
     "text": [
      "  Courses    Fee Duration  Discount\n",
      "0       S  22000   30days      1000\n",
      "1       P  25000   50days      2300\n",
      "2       H  23000   30days      1000\n",
      "3       P  24000     None      1200\n",
      "4       P  26000      NaN      2500\n"
     ]
    }
   ],
   "source": [
    "#Using exhaustive map() dict\n",
    "df = pd.DataFrame(technologies)\n",
    "df[\"Courses\"]=df['Courses'].map(dict)\n",
    "print(df)"
   ]
  },
  {
   "cell_type": "markdown",
   "id": "1b93e4cc",
   "metadata": {},
   "source": [
    "#"
   ]
  },
  {
   "cell_type": "code",
   "execution_count": 8,
   "id": "26f3d2fe",
   "metadata": {},
   "outputs": [
    {
     "data": {
      "text/plain": [
       "{'male': ['koosha', 'pooya', 'hamid'], 'female': ['zahra', 'mahsa', 'manizhe']}"
      ]
     },
     "execution_count": 8,
     "metadata": {},
     "output_type": "execute_result"
    }
   ],
   "source": [
    "word_freq = {'male'   : ['koosha' , 'pooya', 'hamid' ] , 'female'   : ['zahra' , 'mahsa' , 'manizhe']\n",
    "             }\n",
    "word_freq"
   ]
  },
  {
   "cell_type": "code",
   "execution_count": 9,
   "id": "0f28c05f",
   "metadata": {},
   "outputs": [
    {
     "data": {
      "text/plain": [
       "[['koosha', 'pooya', 'hamid'], ['zahra', 'mahsa', 'manizhe']]"
      ]
     },
     "execution_count": 9,
     "metadata": {},
     "output_type": "execute_result"
    }
   ],
   "source": [
    "list(word_freq.values())\n"
   ]
  },
  {
   "cell_type": "code",
   "execution_count": 10,
   "id": "a7f28215",
   "metadata": {},
   "outputs": [
    {
     "data": {
      "text/plain": [
       "['koosha', 'pooya', 'hamid']"
      ]
     },
     "execution_count": 10,
     "metadata": {},
     "output_type": "execute_result"
    }
   ],
   "source": [
    "list(word_freq.values())[0]\n"
   ]
  },
  {
   "cell_type": "code",
   "execution_count": 11,
   "id": "9fd82b90",
   "metadata": {},
   "outputs": [
    {
     "data": {
      "text/plain": [
       "'koosha'"
      ]
     },
     "execution_count": 11,
     "metadata": {},
     "output_type": "execute_result"
    }
   ],
   "source": [
    "list(word_freq.values())[0][0]"
   ]
  },
  {
   "cell_type": "code",
   "execution_count": 12,
   "id": "4bcf03f6",
   "metadata": {},
   "outputs": [
    {
     "name": "stdout",
     "output_type": "stream",
     "text": [
      "False\n",
      "True\n"
     ]
    }
   ],
   "source": [
    "for i in list(word_freq.values()):\n",
    "    print('zahra' in i)\n",
    "        "
   ]
  },
  {
   "cell_type": "code",
   "execution_count": 14,
   "id": "628efa06",
   "metadata": {},
   "outputs": [
    {
     "data": {
      "text/plain": [
       "2"
      ]
     },
     "execution_count": 14,
     "metadata": {},
     "output_type": "execute_result"
    }
   ],
   "source": [
    "len(word_freq.values())"
   ]
  },
  {
   "cell_type": "code",
   "execution_count": 28,
   "id": "0f05a32e",
   "metadata": {},
   "outputs": [
    {
     "name": "stdout",
     "output_type": "stream",
     "text": [
      "Java\n"
     ]
    }
   ],
   "source": [
    "# creating a new dictionary\n",
    "my_dict ={\"Java\":100, \"Python\":112, \"C\":11}\n",
    "\n",
    "# one-liner\n",
    "print(list(my_dict.keys())[list(my_dict.values()).index(100)])\n"
   ]
  },
  {
   "cell_type": "code",
   "execution_count": 21,
   "id": "96f56c72",
   "metadata": {},
   "outputs": [
    {
     "data": {
      "text/plain": [
       "[['koosha', 'pooya', 'hamid'], ['zahra', 'mahsa', 'manizhe']]"
      ]
     },
     "execution_count": 21,
     "metadata": {},
     "output_type": "execute_result"
    }
   ],
   "source": [
    "list(word_freq.values())"
   ]
  },
  {
   "cell_type": "code",
   "execution_count": 13,
   "id": "20dfb966",
   "metadata": {},
   "outputs": [
    {
     "data": {
      "text/plain": [
       "'male'"
      ]
     },
     "execution_count": 13,
     "metadata": {},
     "output_type": "execute_result"
    }
   ],
   "source": [
    "list(word_freq.keys())[0]"
   ]
  },
  {
   "cell_type": "code",
   "execution_count": 41,
   "id": "05937471",
   "metadata": {},
   "outputs": [
    {
     "name": "stdout",
     "output_type": "stream",
     "text": [
      "male\n"
     ]
    }
   ],
   "source": [
    "for i in list(word_freq.values()):\n",
    "    if 'koosha' not in i:\n",
    "        continue\n",
    "    else :\n",
    "        print(list(word_freq.keys())[list(word_freq.values()).index(i)])\n",
    "\n",
    "    "
   ]
  },
  {
   "cell_type": "code",
   "execution_count": null,
   "id": "ed004ba1",
   "metadata": {},
   "outputs": [],
   "source": [
    "    else:\n",
    "        print('NULL')"
   ]
  }
 ],
 "metadata": {
  "kernelspec": {
   "display_name": "Python 3 (ipykernel)",
   "language": "python",
   "name": "python3"
  },
  "language_info": {
   "codemirror_mode": {
    "name": "ipython",
    "version": 3
   },
   "file_extension": ".py",
   "mimetype": "text/x-python",
   "name": "python",
   "nbconvert_exporter": "python",
   "pygments_lexer": "ipython3",
   "version": "3.9.7"
  }
 },
 "nbformat": 4,
 "nbformat_minor": 5
}
